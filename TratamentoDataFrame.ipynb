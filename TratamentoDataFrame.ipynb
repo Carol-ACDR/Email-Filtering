{
  "cells": [
    {
      "cell_type": "code",
      "execution_count": null,
      "metadata": {
        "id": "3eiUZ2qbk9Og"
      },
      "outputs": [],
      "source": [
        "import pandas as pd\n",
        "from email.header import decode_header\n",
        "Frame = pd.read_csv('https://raw.githubusercontent.com/Carol-ACDR/Email_proj/main/emails_processados.csv',sep =',',encoding='UTF-8')\n",
        "def extracao_email(string):\n",
        "    if string[0]== \"=\":\n",
        "      K1 = decode_header(string)\n",
        "    else:\n",
        "       return string\n",
        "    return (K1[0][0])"
      ]
    },
    {
      "cell_type": "code",
      "source": [
        "Frame['subject'] = Frame['subject'].apply(lambda x: extracao_email(x))"
      ],
      "metadata": {
        "id": "Udw3ygpam1MJ"
      },
      "execution_count": null,
      "outputs": []
    },
    {
      "cell_type": "code",
      "source": [
        "def email(string):\n",
        " if isinstance(string,str):\n",
        "   return string\n",
        " else:\n",
        "   string = string.decode('utf8')\n",
        "   return string\n",
        "Frame['subject'] = Frame['subject'].apply(lambda x: email(x))"
      ],
      "metadata": {
        "id": "eKjJq5Q5mwtS"
      },
      "execution_count": null,
      "outputs": []
    },
    {
      "cell_type": "code",
      "execution_count": null,
      "metadata": {
        "id": "f5Eh3l4Qk9Oj",
        "outputId": "39026674-49bd-4fe9-fbe0-7c97529a7360"
      },
      "outputs": [
        {
          "name": "stdout",
          "output_type": "stream",
          "text": [
            "<class 'str'>\n"
          ]
        }
      ],
      "source": [
        "print(type(Frame['subject'][1]))"
      ]
    }
  ],
  "metadata": {
    "kernelspec": {
      "display_name": "Python 3",
      "language": "python",
      "name": "python3"
    },
    "language_info": {
      "codemirror_mode": {
        "name": "ipython",
        "version": 3
      },
      "file_extension": ".py",
      "mimetype": "text/x-python",
      "name": "python",
      "nbconvert_exporter": "python",
      "pygments_lexer": "ipython3",
      "version": "3.8.5"
    },
    "colab": {
      "provenance": []
    }
  },
  "nbformat": 4,
  "nbformat_minor": 0
}